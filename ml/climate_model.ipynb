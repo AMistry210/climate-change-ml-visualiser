{
 "cells": [
  {
   "cell_type": "markdown",
   "id": "eb6d2978",
   "metadata": {},
   "source": [
    "### Import Pandas"
   ]
  },
  {
   "cell_type": "code",
   "execution_count": 2,
   "id": "d97c5525",
   "metadata": {},
   "outputs": [],
   "source": [
    "import pandas as pd"
   ]
  },
  {
   "cell_type": "markdown",
   "id": "cfc890e2",
   "metadata": {},
   "source": [
    "Read dataset."
   ]
  },
  {
   "cell_type": "code",
   "execution_count": 3,
   "id": "1b4eaa2e",
   "metadata": {},
   "outputs": [],
   "source": [
    "gt_df = pd.read_csv('Dataset/GlobalTemperatures.csv')"
   ]
  },
  {
   "cell_type": "markdown",
   "id": "9e0a359d",
   "metadata": {},
   "source": [
    "Check dataset is being read correctly."
   ]
  },
  {
   "cell_type": "code",
   "execution_count": 4,
   "id": "51ca6fa1",
   "metadata": {},
   "outputs": [
    {
     "data": {
      "application/vnd.microsoft.datawrangler.viewer.v0+json": {
       "columns": [
        {
         "name": "index",
         "rawType": "int64",
         "type": "integer"
        },
        {
         "name": "dt",
         "rawType": "object",
         "type": "string"
        },
        {
         "name": "LandAverageTemperature",
         "rawType": "float64",
         "type": "float"
        },
        {
         "name": "LandAverageTemperatureUncertainty",
         "rawType": "float64",
         "type": "float"
        },
        {
         "name": "LandMaxTemperature",
         "rawType": "float64",
         "type": "float"
        },
        {
         "name": "LandMaxTemperatureUncertainty",
         "rawType": "float64",
         "type": "float"
        },
        {
         "name": "LandMinTemperature",
         "rawType": "float64",
         "type": "float"
        },
        {
         "name": "LandMinTemperatureUncertainty",
         "rawType": "float64",
         "type": "float"
        },
        {
         "name": "LandAndOceanAverageTemperature",
         "rawType": "float64",
         "type": "float"
        },
        {
         "name": "LandAndOceanAverageTemperatureUncertainty",
         "rawType": "float64",
         "type": "float"
        }
       ],
       "ref": "e99ee550-bedc-4cce-ab12-a2b7bb772bf4",
       "rows": [
        [
         "0",
         "1750-01-01",
         "3.0340000000000003",
         "3.574",
         null,
         null,
         null,
         null,
         null,
         null
        ],
        [
         "1",
         "1750-02-01",
         "3.083",
         "3.702",
         null,
         null,
         null,
         null,
         null,
         null
        ],
        [
         "2",
         "1750-03-01",
         "5.626",
         "3.076",
         null,
         null,
         null,
         null,
         null,
         null
        ],
        [
         "3",
         "1750-04-01",
         "8.49",
         "2.451",
         null,
         null,
         null,
         null,
         null,
         null
        ],
        [
         "4",
         "1750-05-01",
         "11.573",
         "2.072",
         null,
         null,
         null,
         null,
         null,
         null
        ]
       ],
       "shape": {
        "columns": 9,
        "rows": 5
       }
      },
      "text/html": [
       "<div>\n",
       "<style scoped>\n",
       "    .dataframe tbody tr th:only-of-type {\n",
       "        vertical-align: middle;\n",
       "    }\n",
       "\n",
       "    .dataframe tbody tr th {\n",
       "        vertical-align: top;\n",
       "    }\n",
       "\n",
       "    .dataframe thead th {\n",
       "        text-align: right;\n",
       "    }\n",
       "</style>\n",
       "<table border=\"1\" class=\"dataframe\">\n",
       "  <thead>\n",
       "    <tr style=\"text-align: right;\">\n",
       "      <th></th>\n",
       "      <th>dt</th>\n",
       "      <th>LandAverageTemperature</th>\n",
       "      <th>LandAverageTemperatureUncertainty</th>\n",
       "      <th>LandMaxTemperature</th>\n",
       "      <th>LandMaxTemperatureUncertainty</th>\n",
       "      <th>LandMinTemperature</th>\n",
       "      <th>LandMinTemperatureUncertainty</th>\n",
       "      <th>LandAndOceanAverageTemperature</th>\n",
       "      <th>LandAndOceanAverageTemperatureUncertainty</th>\n",
       "    </tr>\n",
       "  </thead>\n",
       "  <tbody>\n",
       "    <tr>\n",
       "      <th>0</th>\n",
       "      <td>1750-01-01</td>\n",
       "      <td>3.034</td>\n",
       "      <td>3.574</td>\n",
       "      <td>NaN</td>\n",
       "      <td>NaN</td>\n",
       "      <td>NaN</td>\n",
       "      <td>NaN</td>\n",
       "      <td>NaN</td>\n",
       "      <td>NaN</td>\n",
       "    </tr>\n",
       "    <tr>\n",
       "      <th>1</th>\n",
       "      <td>1750-02-01</td>\n",
       "      <td>3.083</td>\n",
       "      <td>3.702</td>\n",
       "      <td>NaN</td>\n",
       "      <td>NaN</td>\n",
       "      <td>NaN</td>\n",
       "      <td>NaN</td>\n",
       "      <td>NaN</td>\n",
       "      <td>NaN</td>\n",
       "    </tr>\n",
       "    <tr>\n",
       "      <th>2</th>\n",
       "      <td>1750-03-01</td>\n",
       "      <td>5.626</td>\n",
       "      <td>3.076</td>\n",
       "      <td>NaN</td>\n",
       "      <td>NaN</td>\n",
       "      <td>NaN</td>\n",
       "      <td>NaN</td>\n",
       "      <td>NaN</td>\n",
       "      <td>NaN</td>\n",
       "    </tr>\n",
       "    <tr>\n",
       "      <th>3</th>\n",
       "      <td>1750-04-01</td>\n",
       "      <td>8.490</td>\n",
       "      <td>2.451</td>\n",
       "      <td>NaN</td>\n",
       "      <td>NaN</td>\n",
       "      <td>NaN</td>\n",
       "      <td>NaN</td>\n",
       "      <td>NaN</td>\n",
       "      <td>NaN</td>\n",
       "    </tr>\n",
       "    <tr>\n",
       "      <th>4</th>\n",
       "      <td>1750-05-01</td>\n",
       "      <td>11.573</td>\n",
       "      <td>2.072</td>\n",
       "      <td>NaN</td>\n",
       "      <td>NaN</td>\n",
       "      <td>NaN</td>\n",
       "      <td>NaN</td>\n",
       "      <td>NaN</td>\n",
       "      <td>NaN</td>\n",
       "    </tr>\n",
       "  </tbody>\n",
       "</table>\n",
       "</div>"
      ],
      "text/plain": [
       "           dt  LandAverageTemperature  LandAverageTemperatureUncertainty  \\\n",
       "0  1750-01-01                   3.034                              3.574   \n",
       "1  1750-02-01                   3.083                              3.702   \n",
       "2  1750-03-01                   5.626                              3.076   \n",
       "3  1750-04-01                   8.490                              2.451   \n",
       "4  1750-05-01                  11.573                              2.072   \n",
       "\n",
       "   LandMaxTemperature  LandMaxTemperatureUncertainty  LandMinTemperature  \\\n",
       "0                 NaN                            NaN                 NaN   \n",
       "1                 NaN                            NaN                 NaN   \n",
       "2                 NaN                            NaN                 NaN   \n",
       "3                 NaN                            NaN                 NaN   \n",
       "4                 NaN                            NaN                 NaN   \n",
       "\n",
       "   LandMinTemperatureUncertainty  LandAndOceanAverageTemperature  \\\n",
       "0                            NaN                             NaN   \n",
       "1                            NaN                             NaN   \n",
       "2                            NaN                             NaN   \n",
       "3                            NaN                             NaN   \n",
       "4                            NaN                             NaN   \n",
       "\n",
       "   LandAndOceanAverageTemperatureUncertainty  \n",
       "0                                        NaN  \n",
       "1                                        NaN  \n",
       "2                                        NaN  \n",
       "3                                        NaN  \n",
       "4                                        NaN  "
      ]
     },
     "execution_count": 4,
     "metadata": {},
     "output_type": "execute_result"
    }
   ],
   "source": [
    "gt_df.head()"
   ]
  },
  {
   "cell_type": "markdown",
   "id": "12f3535a",
   "metadata": {},
   "source": [
    "Convert data into their correct format."
   ]
  },
  {
   "cell_type": "code",
   "execution_count": 5,
   "id": "57451949",
   "metadata": {},
   "outputs": [],
   "source": [
    "gt_df ['dt'] = pd.to_datetime(gt_df['dt'])"
   ]
  },
  {
   "cell_type": "code",
   "execution_count": 6,
   "id": "214dfda4",
   "metadata": {},
   "outputs": [],
   "source": [
    "gt_df['Year'] = gt_df['dt'].dt.year"
   ]
  },
  {
   "cell_type": "code",
   "execution_count": 7,
   "id": "699ceab8",
   "metadata": {},
   "outputs": [],
   "source": [
    "gt_df['Month'] = gt_df['dt'].dt.month"
   ]
  },
  {
   "cell_type": "code",
   "execution_count": 8,
   "id": "e22b9c6f",
   "metadata": {},
   "outputs": [
    {
     "name": "stdout",
     "output_type": "stream",
     "text": [
      "<class 'pandas.core.frame.DataFrame'>\n",
      "RangeIndex: 3192 entries, 0 to 3191\n",
      "Data columns (total 11 columns):\n",
      " #   Column                                     Non-Null Count  Dtype         \n",
      "---  ------                                     --------------  -----         \n",
      " 0   dt                                         3192 non-null   datetime64[ns]\n",
      " 1   LandAverageTemperature                     3180 non-null   float64       \n",
      " 2   LandAverageTemperatureUncertainty          3180 non-null   float64       \n",
      " 3   LandMaxTemperature                         1992 non-null   float64       \n",
      " 4   LandMaxTemperatureUncertainty              1992 non-null   float64       \n",
      " 5   LandMinTemperature                         1992 non-null   float64       \n",
      " 6   LandMinTemperatureUncertainty              1992 non-null   float64       \n",
      " 7   LandAndOceanAverageTemperature             1992 non-null   float64       \n",
      " 8   LandAndOceanAverageTemperatureUncertainty  1992 non-null   float64       \n",
      " 9   Year                                       3192 non-null   int32         \n",
      " 10  Month                                      3192 non-null   int32         \n",
      "dtypes: datetime64[ns](1), float64(8), int32(2)\n",
      "memory usage: 249.5 KB\n"
     ]
    }
   ],
   "source": [
    "gt_df.info()"
   ]
  },
  {
   "cell_type": "code",
   "execution_count": 9,
   "id": "35ae450f",
   "metadata": {},
   "outputs": [
    {
     "data": {
      "application/vnd.microsoft.datawrangler.viewer.v0+json": {
       "columns": [
        {
         "name": "index",
         "rawType": "object",
         "type": "string"
        },
        {
         "name": "count",
         "rawType": "object",
         "type": "unknown"
        },
        {
         "name": "mean",
         "rawType": "object",
         "type": "unknown"
        },
        {
         "name": "min",
         "rawType": "object",
         "type": "unknown"
        },
        {
         "name": "25%",
         "rawType": "object",
         "type": "unknown"
        },
        {
         "name": "50%",
         "rawType": "object",
         "type": "unknown"
        },
        {
         "name": "75%",
         "rawType": "object",
         "type": "unknown"
        },
        {
         "name": "max",
         "rawType": "object",
         "type": "unknown"
        },
        {
         "name": "std",
         "rawType": "object",
         "type": "unknown"
        }
       ],
       "ref": "13c14062-053f-40b0-83d6-0f9b308d620f",
       "rows": [
        [
         "dt",
         "3192",
         "1882-12-15 23:02:15.338345984",
         "1750-01-01 00:00:00",
         "1816-06-23 12:00:00",
         "1882-12-16 12:00:00",
         "1949-06-08 12:00:00",
         "2015-12-01 00:00:00",
         null
        ],
        [
         "LandAverageTemperature",
         "3180.0",
         "8.374731132075471",
         "-2.08",
         "4.312",
         "8.610499999999998",
         "12.54825",
         "19.021",
         "4.381309770725174"
        ],
        [
         "LandAverageTemperatureUncertainty",
         "3180.0",
         "0.9384679245283019",
         "0.034",
         "0.18675",
         "0.392",
         "1.41925",
         "7.88",
         "1.0964397949200564"
        ],
        [
         "LandMaxTemperature",
         "1992.0",
         "14.350600903614458",
         "5.9",
         "10.212",
         "14.76",
         "18.451500000000003",
         "21.32",
         "4.3095789659485355"
        ],
        [
         "LandMaxTemperatureUncertainty",
         "1992.0",
         "0.4797816265060241",
         "0.044",
         "0.142",
         "0.252",
         "0.539",
         "4.373",
         "0.5832029574744941"
        ],
        [
         "LandMinTemperature",
         "1992.0",
         "2.7435953815261045",
         "-5.407",
         "-1.3345000000000002",
         "2.9495",
         "6.7787500000000005",
         "9.715",
         "4.15583532004962"
        ],
        [
         "LandMinTemperatureUncertainty",
         "1992.0",
         "0.43184889558232936",
         "0.045",
         "0.155",
         "0.279",
         "0.45825000000000005",
         "3.498",
         "0.4458378370608343"
        ],
        [
         "LandAndOceanAverageTemperature",
         "1992.0",
         "15.21256576305221",
         "12.475",
         "14.047",
         "15.251000000000001",
         "16.396250000000002",
         "17.611",
         "1.274092954437384"
        ],
        [
         "LandAndOceanAverageTemperatureUncertainty",
         "1992.0",
         "0.12853212851405624",
         "0.042",
         "0.063",
         "0.122",
         "0.151",
         "0.457",
         "0.0735867960054391"
        ],
        [
         "Year",
         "3192.0",
         "1882.5",
         "1750.0",
         "1816.0",
         "1882.5",
         "1949.0",
         "2015.0",
         "76.79907405035667"
        ],
        [
         "Month",
         "3192.0",
         "6.5",
         "1.0",
         "3.75",
         "6.5",
         "9.25",
         "12.0",
         "3.4525933916656024"
        ]
       ],
       "shape": {
        "columns": 8,
        "rows": 11
       }
      },
      "text/html": [
       "<div>\n",
       "<style scoped>\n",
       "    .dataframe tbody tr th:only-of-type {\n",
       "        vertical-align: middle;\n",
       "    }\n",
       "\n",
       "    .dataframe tbody tr th {\n",
       "        vertical-align: top;\n",
       "    }\n",
       "\n",
       "    .dataframe thead th {\n",
       "        text-align: right;\n",
       "    }\n",
       "</style>\n",
       "<table border=\"1\" class=\"dataframe\">\n",
       "  <thead>\n",
       "    <tr style=\"text-align: right;\">\n",
       "      <th></th>\n",
       "      <th>count</th>\n",
       "      <th>mean</th>\n",
       "      <th>min</th>\n",
       "      <th>25%</th>\n",
       "      <th>50%</th>\n",
       "      <th>75%</th>\n",
       "      <th>max</th>\n",
       "      <th>std</th>\n",
       "    </tr>\n",
       "  </thead>\n",
       "  <tbody>\n",
       "    <tr>\n",
       "      <th>dt</th>\n",
       "      <td>3192</td>\n",
       "      <td>1882-12-15 23:02:15.338345984</td>\n",
       "      <td>1750-01-01 00:00:00</td>\n",
       "      <td>1816-06-23 12:00:00</td>\n",
       "      <td>1882-12-16 12:00:00</td>\n",
       "      <td>1949-06-08 12:00:00</td>\n",
       "      <td>2015-12-01 00:00:00</td>\n",
       "      <td>NaN</td>\n",
       "    </tr>\n",
       "    <tr>\n",
       "      <th>LandAverageTemperature</th>\n",
       "      <td>3180.0</td>\n",
       "      <td>8.374731</td>\n",
       "      <td>-2.08</td>\n",
       "      <td>4.312</td>\n",
       "      <td>8.6105</td>\n",
       "      <td>12.54825</td>\n",
       "      <td>19.021</td>\n",
       "      <td>4.38131</td>\n",
       "    </tr>\n",
       "    <tr>\n",
       "      <th>LandAverageTemperatureUncertainty</th>\n",
       "      <td>3180.0</td>\n",
       "      <td>0.938468</td>\n",
       "      <td>0.034</td>\n",
       "      <td>0.18675</td>\n",
       "      <td>0.392</td>\n",
       "      <td>1.41925</td>\n",
       "      <td>7.88</td>\n",
       "      <td>1.09644</td>\n",
       "    </tr>\n",
       "    <tr>\n",
       "      <th>LandMaxTemperature</th>\n",
       "      <td>1992.0</td>\n",
       "      <td>14.350601</td>\n",
       "      <td>5.9</td>\n",
       "      <td>10.212</td>\n",
       "      <td>14.76</td>\n",
       "      <td>18.4515</td>\n",
       "      <td>21.32</td>\n",
       "      <td>4.309579</td>\n",
       "    </tr>\n",
       "    <tr>\n",
       "      <th>LandMaxTemperatureUncertainty</th>\n",
       "      <td>1992.0</td>\n",
       "      <td>0.479782</td>\n",
       "      <td>0.044</td>\n",
       "      <td>0.142</td>\n",
       "      <td>0.252</td>\n",
       "      <td>0.539</td>\n",
       "      <td>4.373</td>\n",
       "      <td>0.583203</td>\n",
       "    </tr>\n",
       "    <tr>\n",
       "      <th>LandMinTemperature</th>\n",
       "      <td>1992.0</td>\n",
       "      <td>2.743595</td>\n",
       "      <td>-5.407</td>\n",
       "      <td>-1.3345</td>\n",
       "      <td>2.9495</td>\n",
       "      <td>6.77875</td>\n",
       "      <td>9.715</td>\n",
       "      <td>4.155835</td>\n",
       "    </tr>\n",
       "    <tr>\n",
       "      <th>LandMinTemperatureUncertainty</th>\n",
       "      <td>1992.0</td>\n",
       "      <td>0.431849</td>\n",
       "      <td>0.045</td>\n",
       "      <td>0.155</td>\n",
       "      <td>0.279</td>\n",
       "      <td>0.45825</td>\n",
       "      <td>3.498</td>\n",
       "      <td>0.445838</td>\n",
       "    </tr>\n",
       "    <tr>\n",
       "      <th>LandAndOceanAverageTemperature</th>\n",
       "      <td>1992.0</td>\n",
       "      <td>15.212566</td>\n",
       "      <td>12.475</td>\n",
       "      <td>14.047</td>\n",
       "      <td>15.251</td>\n",
       "      <td>16.39625</td>\n",
       "      <td>17.611</td>\n",
       "      <td>1.274093</td>\n",
       "    </tr>\n",
       "    <tr>\n",
       "      <th>LandAndOceanAverageTemperatureUncertainty</th>\n",
       "      <td>1992.0</td>\n",
       "      <td>0.128532</td>\n",
       "      <td>0.042</td>\n",
       "      <td>0.063</td>\n",
       "      <td>0.122</td>\n",
       "      <td>0.151</td>\n",
       "      <td>0.457</td>\n",
       "      <td>0.073587</td>\n",
       "    </tr>\n",
       "    <tr>\n",
       "      <th>Year</th>\n",
       "      <td>3192.0</td>\n",
       "      <td>1882.5</td>\n",
       "      <td>1750.0</td>\n",
       "      <td>1816.0</td>\n",
       "      <td>1882.5</td>\n",
       "      <td>1949.0</td>\n",
       "      <td>2015.0</td>\n",
       "      <td>76.799074</td>\n",
       "    </tr>\n",
       "    <tr>\n",
       "      <th>Month</th>\n",
       "      <td>3192.0</td>\n",
       "      <td>6.5</td>\n",
       "      <td>1.0</td>\n",
       "      <td>3.75</td>\n",
       "      <td>6.5</td>\n",
       "      <td>9.25</td>\n",
       "      <td>12.0</td>\n",
       "      <td>3.452593</td>\n",
       "    </tr>\n",
       "  </tbody>\n",
       "</table>\n",
       "</div>"
      ],
      "text/plain": [
       "                                            count  \\\n",
       "dt                                           3192   \n",
       "LandAverageTemperature                     3180.0   \n",
       "LandAverageTemperatureUncertainty          3180.0   \n",
       "LandMaxTemperature                         1992.0   \n",
       "LandMaxTemperatureUncertainty              1992.0   \n",
       "LandMinTemperature                         1992.0   \n",
       "LandMinTemperatureUncertainty              1992.0   \n",
       "LandAndOceanAverageTemperature             1992.0   \n",
       "LandAndOceanAverageTemperatureUncertainty  1992.0   \n",
       "Year                                       3192.0   \n",
       "Month                                      3192.0   \n",
       "\n",
       "                                                                    mean  \\\n",
       "dt                                         1882-12-15 23:02:15.338345984   \n",
       "LandAverageTemperature                                          8.374731   \n",
       "LandAverageTemperatureUncertainty                               0.938468   \n",
       "LandMaxTemperature                                             14.350601   \n",
       "LandMaxTemperatureUncertainty                                   0.479782   \n",
       "LandMinTemperature                                              2.743595   \n",
       "LandMinTemperatureUncertainty                                   0.431849   \n",
       "LandAndOceanAverageTemperature                                 15.212566   \n",
       "LandAndOceanAverageTemperatureUncertainty                       0.128532   \n",
       "Year                                                              1882.5   \n",
       "Month                                                                6.5   \n",
       "\n",
       "                                                           min  \\\n",
       "dt                                         1750-01-01 00:00:00   \n",
       "LandAverageTemperature                                   -2.08   \n",
       "LandAverageTemperatureUncertainty                        0.034   \n",
       "LandMaxTemperature                                         5.9   \n",
       "LandMaxTemperatureUncertainty                            0.044   \n",
       "LandMinTemperature                                      -5.407   \n",
       "LandMinTemperatureUncertainty                            0.045   \n",
       "LandAndOceanAverageTemperature                          12.475   \n",
       "LandAndOceanAverageTemperatureUncertainty                0.042   \n",
       "Year                                                    1750.0   \n",
       "Month                                                      1.0   \n",
       "\n",
       "                                                           25%  \\\n",
       "dt                                         1816-06-23 12:00:00   \n",
       "LandAverageTemperature                                   4.312   \n",
       "LandAverageTemperatureUncertainty                      0.18675   \n",
       "LandMaxTemperature                                      10.212   \n",
       "LandMaxTemperatureUncertainty                            0.142   \n",
       "LandMinTemperature                                     -1.3345   \n",
       "LandMinTemperatureUncertainty                            0.155   \n",
       "LandAndOceanAverageTemperature                          14.047   \n",
       "LandAndOceanAverageTemperatureUncertainty                0.063   \n",
       "Year                                                    1816.0   \n",
       "Month                                                     3.75   \n",
       "\n",
       "                                                           50%  \\\n",
       "dt                                         1882-12-16 12:00:00   \n",
       "LandAverageTemperature                                  8.6105   \n",
       "LandAverageTemperatureUncertainty                        0.392   \n",
       "LandMaxTemperature                                       14.76   \n",
       "LandMaxTemperatureUncertainty                            0.252   \n",
       "LandMinTemperature                                      2.9495   \n",
       "LandMinTemperatureUncertainty                            0.279   \n",
       "LandAndOceanAverageTemperature                          15.251   \n",
       "LandAndOceanAverageTemperatureUncertainty                0.122   \n",
       "Year                                                    1882.5   \n",
       "Month                                                      6.5   \n",
       "\n",
       "                                                           75%  \\\n",
       "dt                                         1949-06-08 12:00:00   \n",
       "LandAverageTemperature                                12.54825   \n",
       "LandAverageTemperatureUncertainty                      1.41925   \n",
       "LandMaxTemperature                                     18.4515   \n",
       "LandMaxTemperatureUncertainty                            0.539   \n",
       "LandMinTemperature                                     6.77875   \n",
       "LandMinTemperatureUncertainty                          0.45825   \n",
       "LandAndOceanAverageTemperature                        16.39625   \n",
       "LandAndOceanAverageTemperatureUncertainty                0.151   \n",
       "Year                                                    1949.0   \n",
       "Month                                                     9.25   \n",
       "\n",
       "                                                           max        std  \n",
       "dt                                         2015-12-01 00:00:00        NaN  \n",
       "LandAverageTemperature                                  19.021    4.38131  \n",
       "LandAverageTemperatureUncertainty                         7.88    1.09644  \n",
       "LandMaxTemperature                                       21.32   4.309579  \n",
       "LandMaxTemperatureUncertainty                            4.373   0.583203  \n",
       "LandMinTemperature                                       9.715   4.155835  \n",
       "LandMinTemperatureUncertainty                            3.498   0.445838  \n",
       "LandAndOceanAverageTemperature                          17.611   1.274093  \n",
       "LandAndOceanAverageTemperatureUncertainty                0.457   0.073587  \n",
       "Year                                                    2015.0  76.799074  \n",
       "Month                                                     12.0   3.452593  "
      ]
     },
     "execution_count": 9,
     "metadata": {},
     "output_type": "execute_result"
    }
   ],
   "source": [
    "gt_df.describe().T"
   ]
  },
  {
   "cell_type": "code",
   "execution_count": 10,
   "id": "e47e77be",
   "metadata": {},
   "outputs": [
    {
     "data": {
      "application/vnd.microsoft.datawrangler.viewer.v0+json": {
       "columns": [
        {
         "name": "index",
         "rawType": "object",
         "type": "string"
        },
        {
         "name": "0",
         "rawType": "int64",
         "type": "integer"
        }
       ],
       "ref": "17f49bfb-caf6-4b8d-a582-6f739ff4d6ec",
       "rows": [
        [
         "dt",
         "0"
        ],
        [
         "LandAverageTemperature",
         "12"
        ],
        [
         "LandAverageTemperatureUncertainty",
         "12"
        ],
        [
         "LandMaxTemperature",
         "1200"
        ],
        [
         "LandMaxTemperatureUncertainty",
         "1200"
        ],
        [
         "LandMinTemperature",
         "1200"
        ],
        [
         "LandMinTemperatureUncertainty",
         "1200"
        ],
        [
         "LandAndOceanAverageTemperature",
         "1200"
        ],
        [
         "LandAndOceanAverageTemperatureUncertainty",
         "1200"
        ],
        [
         "Year",
         "0"
        ],
        [
         "Month",
         "0"
        ]
       ],
       "shape": {
        "columns": 1,
        "rows": 11
       }
      },
      "text/plain": [
       "dt                                              0\n",
       "LandAverageTemperature                         12\n",
       "LandAverageTemperatureUncertainty              12\n",
       "LandMaxTemperature                           1200\n",
       "LandMaxTemperatureUncertainty                1200\n",
       "LandMinTemperature                           1200\n",
       "LandMinTemperatureUncertainty                1200\n",
       "LandAndOceanAverageTemperature               1200\n",
       "LandAndOceanAverageTemperatureUncertainty    1200\n",
       "Year                                            0\n",
       "Month                                           0\n",
       "dtype: int64"
      ]
     },
     "execution_count": 10,
     "metadata": {},
     "output_type": "execute_result"
    }
   ],
   "source": [
    "gt_df.isnull().sum()"
   ]
  },
  {
   "cell_type": "markdown",
   "id": "a4da137d",
   "metadata": {},
   "source": [
    "Drop early years with sparse or empty data."
   ]
  },
  {
   "cell_type": "code",
   "execution_count": 11,
   "id": "11bd31bb",
   "metadata": {},
   "outputs": [],
   "source": [
    "gt_df = gt_df.dropna(subset=['LandAndOceanAverageTemperature'])\n",
    "gt_df = gt_df[gt_df['Year'] >= 1850]"
   ]
  },
  {
   "cell_type": "code",
   "execution_count": 12,
   "id": "b8f01b59",
   "metadata": {},
   "outputs": [
    {
     "data": {
      "application/vnd.microsoft.datawrangler.viewer.v0+json": {
       "columns": [
        {
         "name": "index",
         "rawType": "object",
         "type": "string"
        },
        {
         "name": "0",
         "rawType": "int64",
         "type": "integer"
        }
       ],
       "ref": "37ad19ab-8d7d-4f1b-9edf-2f1b3fadba35",
       "rows": [
        [
         "dt",
         "0"
        ],
        [
         "LandAverageTemperature",
         "0"
        ],
        [
         "LandAverageTemperatureUncertainty",
         "0"
        ],
        [
         "LandMaxTemperature",
         "0"
        ],
        [
         "LandMaxTemperatureUncertainty",
         "0"
        ],
        [
         "LandMinTemperature",
         "0"
        ],
        [
         "LandMinTemperatureUncertainty",
         "0"
        ],
        [
         "LandAndOceanAverageTemperature",
         "0"
        ],
        [
         "LandAndOceanAverageTemperatureUncertainty",
         "0"
        ],
        [
         "Year",
         "0"
        ],
        [
         "Month",
         "0"
        ]
       ],
       "shape": {
        "columns": 1,
        "rows": 11
       }
      },
      "text/plain": [
       "dt                                           0\n",
       "LandAverageTemperature                       0\n",
       "LandAverageTemperatureUncertainty            0\n",
       "LandMaxTemperature                           0\n",
       "LandMaxTemperatureUncertainty                0\n",
       "LandMinTemperature                           0\n",
       "LandMinTemperatureUncertainty                0\n",
       "LandAndOceanAverageTemperature               0\n",
       "LandAndOceanAverageTemperatureUncertainty    0\n",
       "Year                                         0\n",
       "Month                                        0\n",
       "dtype: int64"
      ]
     },
     "execution_count": 12,
     "metadata": {},
     "output_type": "execute_result"
    }
   ],
   "source": [
    "gt_df.isnull().sum()"
   ]
  },
  {
   "cell_type": "code",
   "execution_count": 13,
   "id": "bc29202d",
   "metadata": {},
   "outputs": [],
   "source": [
    "annual_df = gt_df.groupby(\"Year\")[\"LandAndOceanAverageTemperature\"].mean().reset_index()"
   ]
  },
  {
   "cell_type": "code",
   "execution_count": 14,
   "id": "62d83575",
   "metadata": {},
   "outputs": [
    {
     "data": {
      "application/vnd.microsoft.datawrangler.viewer.v0+json": {
       "columns": [
        {
         "name": "index",
         "rawType": "int64",
         "type": "integer"
        },
        {
         "name": "Year",
         "rawType": "int32",
         "type": "integer"
        },
        {
         "name": "Temp",
         "rawType": "float64",
         "type": "float"
        }
       ],
       "ref": "c6660c0c-190a-4eae-8c35-8b23687bbbed",
       "rows": [
        [
         "0",
         "1850",
         "14.867166666666668"
        ],
        [
         "1",
         "1851",
         "14.991833333333334"
        ],
        [
         "2",
         "1852",
         "15.0065"
        ],
        [
         "3",
         "1853",
         "14.955166666666669"
        ],
        [
         "4",
         "1854",
         "14.991"
        ],
        [
         "5",
         "1855",
         "15.021083333333335"
        ],
        [
         "6",
         "1856",
         "14.879333333333333"
        ],
        [
         "7",
         "1857",
         "14.758249999999999"
        ],
        [
         "8",
         "1858",
         "14.8815"
        ],
        [
         "9",
         "1859",
         "14.929916666666665"
        ],
        [
         "10",
         "1860",
         "14.882916666666667"
        ],
        [
         "11",
         "1861",
         "14.800666666666666"
        ],
        [
         "12",
         "1862",
         "14.740083333333333"
        ],
        [
         "13",
         "1863",
         "14.935749999999999"
        ],
        [
         "14",
         "1864",
         "14.896500000000001"
        ],
        [
         "15",
         "1865",
         "14.996666666666668"
        ],
        [
         "16",
         "1866",
         "15.057"
        ],
        [
         "17",
         "1867",
         "15.058666666666667"
        ],
        [
         "18",
         "1868",
         "15.096916666666667"
        ],
        [
         "19",
         "1869",
         "15.0655"
        ],
        [
         "20",
         "1870",
         "15.004333333333333"
        ],
        [
         "21",
         "1871",
         "15.005916666666666"
        ],
        [
         "22",
         "1872",
         "15.019333333333334"
        ],
        [
         "23",
         "1873",
         "15.04925"
        ],
        [
         "24",
         "1874",
         "14.957"
        ],
        [
         "25",
         "1875",
         "14.921916666666666"
        ],
        [
         "26",
         "1876",
         "14.909416666666667"
        ],
        [
         "27",
         "1877",
         "15.282666666666666"
        ],
        [
         "28",
         "1878",
         "15.357416666666666"
        ],
        [
         "29",
         "1879",
         "15.064416666666666"
        ],
        [
         "30",
         "1880",
         "15.008666666666668"
        ],
        [
         "31",
         "1881",
         "15.087166666666667"
        ],
        [
         "32",
         "1882",
         "15.056583333333334"
        ],
        [
         "33",
         "1883",
         "14.96325"
        ],
        [
         "34",
         "1884",
         "14.83325"
        ],
        [
         "35",
         "1885",
         "14.854416666666665"
        ],
        [
         "36",
         "1886",
         "14.83525"
        ],
        [
         "37",
         "1887",
         "14.816"
        ],
        [
         "38",
         "1888",
         "14.994083333333334"
        ],
        [
         "39",
         "1889",
         "15.113416666666666"
        ],
        [
         "40",
         "1890",
         "14.84075"
        ],
        [
         "41",
         "1891",
         "14.943833333333332"
        ],
        [
         "42",
         "1892",
         "14.8825"
        ],
        [
         "43",
         "1893",
         "14.91225"
        ],
        [
         "44",
         "1894",
         "14.91475"
        ],
        [
         "45",
         "1895",
         "14.969"
        ],
        [
         "46",
         "1896",
         "15.090583333333333"
        ],
        [
         "47",
         "1897",
         "15.075333333333333"
        ],
        [
         "48",
         "1898",
         "14.886916666666666"
        ],
        [
         "49",
         "1899",
         "15.048333333333334"
        ]
       ],
       "shape": {
        "columns": 2,
        "rows": 166
       }
      },
      "text/html": [
       "<div>\n",
       "<style scoped>\n",
       "    .dataframe tbody tr th:only-of-type {\n",
       "        vertical-align: middle;\n",
       "    }\n",
       "\n",
       "    .dataframe tbody tr th {\n",
       "        vertical-align: top;\n",
       "    }\n",
       "\n",
       "    .dataframe thead th {\n",
       "        text-align: right;\n",
       "    }\n",
       "</style>\n",
       "<table border=\"1\" class=\"dataframe\">\n",
       "  <thead>\n",
       "    <tr style=\"text-align: right;\">\n",
       "      <th></th>\n",
       "      <th>Year</th>\n",
       "      <th>Temp</th>\n",
       "    </tr>\n",
       "  </thead>\n",
       "  <tbody>\n",
       "    <tr>\n",
       "      <th>0</th>\n",
       "      <td>1850</td>\n",
       "      <td>14.867167</td>\n",
       "    </tr>\n",
       "    <tr>\n",
       "      <th>1</th>\n",
       "      <td>1851</td>\n",
       "      <td>14.991833</td>\n",
       "    </tr>\n",
       "    <tr>\n",
       "      <th>2</th>\n",
       "      <td>1852</td>\n",
       "      <td>15.006500</td>\n",
       "    </tr>\n",
       "    <tr>\n",
       "      <th>3</th>\n",
       "      <td>1853</td>\n",
       "      <td>14.955167</td>\n",
       "    </tr>\n",
       "    <tr>\n",
       "      <th>4</th>\n",
       "      <td>1854</td>\n",
       "      <td>14.991000</td>\n",
       "    </tr>\n",
       "    <tr>\n",
       "      <th>...</th>\n",
       "      <td>...</td>\n",
       "      <td>...</td>\n",
       "    </tr>\n",
       "    <tr>\n",
       "      <th>161</th>\n",
       "      <td>2011</td>\n",
       "      <td>15.769500</td>\n",
       "    </tr>\n",
       "    <tr>\n",
       "      <th>162</th>\n",
       "      <td>2012</td>\n",
       "      <td>15.802333</td>\n",
       "    </tr>\n",
       "    <tr>\n",
       "      <th>163</th>\n",
       "      <td>2013</td>\n",
       "      <td>15.854417</td>\n",
       "    </tr>\n",
       "    <tr>\n",
       "      <th>164</th>\n",
       "      <td>2014</td>\n",
       "      <td>15.913000</td>\n",
       "    </tr>\n",
       "    <tr>\n",
       "      <th>165</th>\n",
       "      <td>2015</td>\n",
       "      <td>16.058583</td>\n",
       "    </tr>\n",
       "  </tbody>\n",
       "</table>\n",
       "<p>166 rows × 2 columns</p>\n",
       "</div>"
      ],
      "text/plain": [
       "     Year       Temp\n",
       "0    1850  14.867167\n",
       "1    1851  14.991833\n",
       "2    1852  15.006500\n",
       "3    1853  14.955167\n",
       "4    1854  14.991000\n",
       "..    ...        ...\n",
       "161  2011  15.769500\n",
       "162  2012  15.802333\n",
       "163  2013  15.854417\n",
       "164  2014  15.913000\n",
       "165  2015  16.058583\n",
       "\n",
       "[166 rows x 2 columns]"
      ]
     },
     "execution_count": 14,
     "metadata": {},
     "output_type": "execute_result"
    }
   ],
   "source": [
    "annual_df.rename(columns={\"LandAndOceanAverageTemperature\": \"Temp\"})"
   ]
  },
  {
   "cell_type": "code",
   "execution_count": 15,
   "id": "3704614b",
   "metadata": {},
   "outputs": [
    {
     "data": {
      "application/vnd.microsoft.datawrangler.viewer.v0+json": {
       "columns": [
        {
         "name": "index",
         "rawType": "int64",
         "type": "integer"
        },
        {
         "name": "Year",
         "rawType": "int32",
         "type": "integer"
        },
        {
         "name": "LandAndOceanAverageTemperature",
         "rawType": "float64",
         "type": "float"
        }
       ],
       "ref": "dd1b5fb6-aadb-451e-b3db-d26d96acf8fe",
       "rows": [
        [
         "0",
         "1850",
         "14.867166666666668"
        ],
        [
         "1",
         "1851",
         "14.991833333333334"
        ],
        [
         "2",
         "1852",
         "15.0065"
        ],
        [
         "3",
         "1853",
         "14.955166666666669"
        ],
        [
         "4",
         "1854",
         "14.991"
        ]
       ],
       "shape": {
        "columns": 2,
        "rows": 5
       }
      },
      "text/html": [
       "<div>\n",
       "<style scoped>\n",
       "    .dataframe tbody tr th:only-of-type {\n",
       "        vertical-align: middle;\n",
       "    }\n",
       "\n",
       "    .dataframe tbody tr th {\n",
       "        vertical-align: top;\n",
       "    }\n",
       "\n",
       "    .dataframe thead th {\n",
       "        text-align: right;\n",
       "    }\n",
       "</style>\n",
       "<table border=\"1\" class=\"dataframe\">\n",
       "  <thead>\n",
       "    <tr style=\"text-align: right;\">\n",
       "      <th></th>\n",
       "      <th>Year</th>\n",
       "      <th>LandAndOceanAverageTemperature</th>\n",
       "    </tr>\n",
       "  </thead>\n",
       "  <tbody>\n",
       "    <tr>\n",
       "      <th>0</th>\n",
       "      <td>1850</td>\n",
       "      <td>14.867167</td>\n",
       "    </tr>\n",
       "    <tr>\n",
       "      <th>1</th>\n",
       "      <td>1851</td>\n",
       "      <td>14.991833</td>\n",
       "    </tr>\n",
       "    <tr>\n",
       "      <th>2</th>\n",
       "      <td>1852</td>\n",
       "      <td>15.006500</td>\n",
       "    </tr>\n",
       "    <tr>\n",
       "      <th>3</th>\n",
       "      <td>1853</td>\n",
       "      <td>14.955167</td>\n",
       "    </tr>\n",
       "    <tr>\n",
       "      <th>4</th>\n",
       "      <td>1854</td>\n",
       "      <td>14.991000</td>\n",
       "    </tr>\n",
       "  </tbody>\n",
       "</table>\n",
       "</div>"
      ],
      "text/plain": [
       "   Year  LandAndOceanAverageTemperature\n",
       "0  1850                       14.867167\n",
       "1  1851                       14.991833\n",
       "2  1852                       15.006500\n",
       "3  1853                       14.955167\n",
       "4  1854                       14.991000"
      ]
     },
     "execution_count": 15,
     "metadata": {},
     "output_type": "execute_result"
    }
   ],
   "source": [
    "annual_df.head()"
   ]
  }
 ],
 "metadata": {
  "kernelspec": {
   "display_name": "Python 3",
   "language": "python",
   "name": "python3"
  },
  "language_info": {
   "codemirror_mode": {
    "name": "ipython",
    "version": 3
   },
   "file_extension": ".py",
   "mimetype": "text/x-python",
   "name": "python",
   "nbconvert_exporter": "python",
   "pygments_lexer": "ipython3",
   "version": "3.13.1"
  }
 },
 "nbformat": 4,
 "nbformat_minor": 5
}
